{
 "cells": [
  {
   "cell_type": "code",
   "execution_count": 1,
   "metadata": {},
   "outputs": [
    {
     "name": "stdout",
     "output_type": "stream",
     "text": [
      "{'title': 'TGDPA', 'subtitle': 'Taiwan General Dental Practitioners Association', 'tel': 'tel number???', 'email': 'email???', 'address': '地址???', 'copyright': '??? 2023', 'pages': [['index', '首頁'], ['what', '什麼是附帶決議'], ['story', '本土小牙醫故事'], ['news-detail', '最新消息'], ['links', '相關資訊'], ['contact', '聯絡我們']], 'socials': [['facebook', 'https://www.facebook.com/'], ['youtube', 'https://www.youtube.com/']], 'color1': 'red', 'origin': 'hihihi'}\n"
     ]
    }
   ],
   "source": [
    "from jinja2 import Template,Environment, FileSystemLoader\n",
    "import json\n",
    "import pandas as pd\n",
    "\n",
    "file_loader = FileSystemLoader('templates')\n",
    "env = Environment(loader=file_loader)\n",
    "\n",
    "\n",
    "\n",
    "\n",
    "\n",
    "\n",
    "with open('info.json') as f:\n",
    "    info=json.load(f)\n",
    "\n",
    "\n",
    "\n",
    "print(info)\n",
    "\n"
   ]
  },
  {
   "cell_type": "code",
   "execution_count": 2,
   "metadata": {},
   "outputs": [
    {
     "name": "stdout",
     "output_type": "stream",
     "text": [
      "{'1': 'images/qa/1.jpeg', '2': 'images/qa/2.jpeg', '3': 'images/qa/3.jpeg', '4': 'images/qa/4.jpeg'}\n"
     ]
    }
   ],
   "source": [
    "from os import listdir\n",
    "from os import listdir\n",
    "from os.path import isfile, isdir, join\n",
    "\n",
    "qa_fig_dir='images/qa'\n",
    "files = listdir(qa_fig_dir)\n",
    "qa_fig={}\n",
    "for f in files:\n",
    "    qa_fig[f.split('.')[0]]= qa_fig_dir+'/'+f\n",
    "\n",
    "print(qa_fig)\n"
   ]
  },
  {
   "cell_type": "code",
   "execution_count": 3,
   "metadata": {},
   "outputs": [
    {
     "name": "stdout",
     "output_type": "stream",
     "text": [
      "{'l': [{'id': 1, 'question': '問題1', 'answer': '回答1', 'fig': 'images/qa/1.jpeg'}], 'r': [{'id': 2, 'question': '問題2', 'answer': 'ans2', 'fig': 'images/qa/2.jpeg'}]}\n"
     ]
    }
   ],
   "source": [
    "\n",
    "\n",
    "qa=open('data/qa.csv')\n",
    "id=1\n",
    "all_qa=[]\n",
    "\n",
    "for line in qa:\n",
    "    \n",
    "    rt={'id':id,'question':line.split(',')[0],'answer':line.split(',')[1].replace(\"\\n\", \"\")}\n",
    "    try:\n",
    "        rt['fig']=qa_fig[str(id)]\n",
    "    except:\n",
    "        pass\n",
    "\n",
    "    all_qa.append(rt)\n",
    "    id+=1\n",
    "\n",
    "n2=int(len(all_qa)/2)\n",
    "all_qa={'l':all_qa[:n2],'r':all_qa[n2:]}\n",
    "print(all_qa)\n",
    "\n",
    "\n"
   ]
  },
  {
   "cell_type": "code",
   "execution_count": 4,
   "metadata": {},
   "outputs": [],
   "source": [
    "template = env.get_template('index.html')\n",
    "page_template = env.get_template('page_tp.html')\n",
    "\n",
    "\n",
    "for page in info['pages']:  \n",
    "    info['pagetitle']=page[1]\n",
    "    try:\n",
    "        tp= env.get_template(f'{page[0]}.html')\n",
    "    except:\n",
    "        tp=page_template\n",
    "\n",
    "    with open(f'{page[0]}.html','w') as pg:\n",
    "        pg.write(tp.render(pagename=page[0],info=info,allqa=all_qa))\n",
    "        pg.close()\n",
    "\n",
    "\n"
   ]
  },
  {
   "cell_type": "code",
   "execution_count": 5,
   "metadata": {},
   "outputs": [
    {
     "data": {
      "text/plain": [
       "1"
      ]
     },
     "execution_count": 5,
     "metadata": {},
     "output_type": "execute_result"
    }
   ],
   "source": [
    "int(len(all_qa)/2)"
   ]
  },
  {
   "cell_type": "code",
   "execution_count": null,
   "metadata": {},
   "outputs": [],
   "source": []
  }
 ],
 "metadata": {
  "kernelspec": {
   "display_name": "base",
   "language": "python",
   "name": "python3"
  },
  "language_info": {
   "codemirror_mode": {
    "name": "ipython",
    "version": 3
   },
   "file_extension": ".py",
   "mimetype": "text/x-python",
   "name": "python",
   "nbconvert_exporter": "python",
   "pygments_lexer": "ipython3",
   "version": "3.10.8"
  },
  "orig_nbformat": 4
 },
 "nbformat": 4,
 "nbformat_minor": 2
}
