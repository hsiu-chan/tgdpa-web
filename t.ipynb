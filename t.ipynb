{
 "cells": [
  {
   "cell_type": "code",
   "execution_count": 2,
   "metadata": {},
   "outputs": [
    {
     "name": "stdout",
     "output_type": "stream",
     "text": [
      "Name: markdown-full-yaml-metadata\n",
      "Version: 2.2.1\n",
      "Summary: YAML metadata extension for Python-Markdown\n",
      "Home-page: https://github.com/sivakov512/python-markdown-full-yaml-metadata\n",
      "Author: Nikita Sivakov\n",
      "Author-email: sivakov512@icloud.com\n",
      "License: MIT\n",
      "Location: c:\\gits\\tgdpa-web\\.conda\\lib\\site-packages\n",
      "Requires: markdown, pyyaml\n",
      "Required-by: \n",
      "Note: you may need to restart the kernel to use updated packages.\n"
     ]
    }
   ],
   "source": [
    "pip show  markdown-full-yaml-metadata\n"
   ]
  },
  {
   "cell_type": "code",
   "execution_count": 13,
   "metadata": {},
   "outputs": [
    {
     "name": "stdout",
     "output_type": "stream",
     "text": [
      "<class 'datetime.datetime'>\n",
      "2021-01-01 00:00:00\n"
     ]
    }
   ],
   "source": [
    "from datetime import datetime\n",
    "\n",
    "s = '2021-01-01'\n",
    "day = datetime.strptime(s, '%Y-%m-%d')\n",
    "print(type(day))\n",
    "print(day)"
   ]
  },
  {
   "cell_type": "code",
   "execution_count": 3,
   "metadata": {},
   "outputs": [
    {
     "name": "stdout",
     "output_type": "stream",
     "text": [
      "Package                     Version\n",
      "--------------------------- -------\n",
      "asttokens                   2.4.1\n",
      "click                       8.1.7\n",
      "colorama                    0.4.6\n",
      "comm                        0.2.1\n",
      "debugpy                     1.6.7\n",
      "decorator                   5.1.1\n",
      "exceptiongroup              1.2.0\n",
      "executing                   2.0.1\n",
      "Flask                       2.2.2\n",
      "importlib-metadata          7.0.1\n",
      "ipykernel                   6.29.2\n",
      "ipython                     8.21.0\n",
      "itsdangerous                2.1.2\n",
      "jedi                        0.19.1\n",
      "Jinja2                      3.1.2\n",
      "jupyter_client              8.6.0\n",
      "jupyter_core                5.7.1\n",
      "Markdown                    3.4.1\n",
      "markdown-extra              1.0.1\n",
      "markdown-full-yaml-metadata 2.2.1\n",
      "markdown-it-py              2.2.0\n",
      "MarkupSafe                  2.1.5\n",
      "matplotlib-inline           0.1.6\n",
      "mdurl                       0.1.2\n",
      "nest_asyncio                1.6.0\n",
      "numpy                       1.26.4\n",
      "packaging                   23.2\n",
      "parso                       0.8.3\n",
      "pickleshare                 0.7.5\n",
      "pip                         23.3.1\n",
      "platformdirs                4.2.0\n",
      "prompt-toolkit              3.0.42\n",
      "psutil                      5.9.0\n",
      "pure-eval                   0.2.2\n",
      "Pygments                    2.17.2\n",
      "python-dateutil             2.8.2\n",
      "pywin32                     305.1\n",
      "PyYAML                      6.0\n",
      "pyzmq                       25.1.2\n",
      "setuptools                  68.2.2\n",
      "six                         1.16.0\n",
      "stack-data                  0.6.2\n",
      "tornado                     6.2\n",
      "traitlets                   5.14.1\n",
      "typing_extensions           4.9.0\n",
      "wcwidth                     0.2.13\n",
      "Werkzeug                    2.2.3\n",
      "wheel                       0.41.2\n",
      "zipp                        3.17.0\n",
      "Note: you may need to restart the kernel to use updated packages.\n"
     ]
    }
   ],
   "source": [
    "pip list"
   ]
  },
  {
   "cell_type": "code",
   "execution_count": 5,
   "metadata": {},
   "outputs": [
    {
     "data": {
      "text/plain": [
       "<module 'full_yaml_metadata' from 'c:\\\\gits\\\\tgdpa-web\\\\.conda\\\\lib\\\\site-packages\\\\full_yaml_metadata.py'>"
      ]
     },
     "execution_count": 5,
     "metadata": {},
     "output_type": "execute_result"
    }
   ],
   "source": [
    "import importlib\n",
    "\n",
    "importlib.import_module('full_yaml_metadata')"
   ]
  },
  {
   "cell_type": "code",
   "execution_count": null,
   "metadata": {},
   "outputs": [],
   "source": []
  }
 ],
 "metadata": {
  "kernelspec": {
   "display_name": "Python 3",
   "language": "python",
   "name": "python3"
  },
  "language_info": {
   "codemirror_mode": {
    "name": "ipython",
    "version": 3
   },
   "file_extension": ".py",
   "mimetype": "text/x-python",
   "name": "python",
   "nbconvert_exporter": "python",
   "pygments_lexer": "ipython3",
   "version": "3.10.13"
  }
 },
 "nbformat": 4,
 "nbformat_minor": 2
}
