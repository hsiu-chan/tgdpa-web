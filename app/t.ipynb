{
 "cells": [
  {
   "cell_type": "code",
   "execution_count": 2,
   "metadata": {},
   "outputs": [
    {
     "name": "stdout",
     "output_type": "stream",
     "text": [
      "Collecting markdown-extra\n",
      "  Downloading markdown_extra-1.0.1-py2.py3-none-any.whl (7.2 kB)\n",
      "Requirement already satisfied: pyYAML in c:\\users\\goode\\anaconda3\\envs\\coding\\lib\\site-packages (from markdown-extra) (6.0)\n",
      "Requirement already satisfied: markdown in c:\\users\\goode\\anaconda3\\envs\\coding\\lib\\site-packages (from markdown-extra) (3.4.1)\n",
      "Installing collected packages: markdown-extra\n",
      "Successfully installed markdown-extra-1.0.1\n",
      "Note: you may need to restart the kernel to use updated packages.\n"
     ]
    },
    {
     "name": "stderr",
     "output_type": "stream",
     "text": [
      "WARNING: Ignoring invalid distribution -rotobuf (c:\\users\\goode\\anaconda3\\envs\\coding\\lib\\site-packages)\n",
      "WARNING: Ignoring invalid distribution -illow (c:\\users\\goode\\anaconda3\\envs\\coding\\lib\\site-packages)\n",
      "WARNING: Ignoring invalid distribution -rotobuf (c:\\users\\goode\\anaconda3\\envs\\coding\\lib\\site-packages)\n",
      "WARNING: Ignoring invalid distribution -illow (c:\\users\\goode\\anaconda3\\envs\\coding\\lib\\site-packages)\n",
      "WARNING: Ignoring invalid distribution -rotobuf (c:\\users\\goode\\anaconda3\\envs\\coding\\lib\\site-packages)\n",
      "WARNING: Ignoring invalid distribution -illow (c:\\users\\goode\\anaconda3\\envs\\coding\\lib\\site-packages)\n",
      "WARNING: Ignoring invalid distribution -rotobuf (c:\\users\\goode\\anaconda3\\envs\\coding\\lib\\site-packages)\n",
      "WARNING: Ignoring invalid distribution -illow (c:\\users\\goode\\anaconda3\\envs\\coding\\lib\\site-packages)\n",
      "WARNING: Ignoring invalid distribution -rotobuf (c:\\users\\goode\\anaconda3\\envs\\coding\\lib\\site-packages)\n",
      "WARNING: Ignoring invalid distribution -illow (c:\\users\\goode\\anaconda3\\envs\\coding\\lib\\site-packages)\n",
      "WARNING: Ignoring invalid distribution -rotobuf (c:\\users\\goode\\anaconda3\\envs\\coding\\lib\\site-packages)\n",
      "WARNING: Ignoring invalid distribution -illow (c:\\users\\goode\\anaconda3\\envs\\coding\\lib\\site-packages)\n",
      "WARNING: Ignoring invalid distribution -rotobuf (c:\\users\\goode\\anaconda3\\envs\\coding\\lib\\site-packages)\n",
      "WARNING: Ignoring invalid distribution -illow (c:\\users\\goode\\anaconda3\\envs\\coding\\lib\\site-packages)\n"
     ]
    }
   ],
   "source": [
    "pip install markdown-extra\n"
   ]
  },
  {
   "cell_type": "code",
   "execution_count": null,
   "metadata": {},
   "outputs": [],
   "source": []
  }
 ],
 "metadata": {
  "kernelspec": {
   "display_name": "Python 3",
   "language": "python",
   "name": "python3"
  },
  "language_info": {
   "codemirror_mode": {
    "name": "ipython",
    "version": 3
   },
   "file_extension": ".py",
   "mimetype": "text/x-python",
   "name": "python",
   "nbconvert_exporter": "python",
   "pygments_lexer": "ipython3",
   "version": "3.10.8"
  }
 },
 "nbformat": 4,
 "nbformat_minor": 2
}
